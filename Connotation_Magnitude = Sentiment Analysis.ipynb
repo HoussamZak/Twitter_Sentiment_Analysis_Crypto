{
 "cells": [
  {
   "cell_type": "markdown",
   "metadata": {},
   "source": [
    "This python program asks for a given cryptocurrency through the Twitter API in order to gather 100 most recents tweets about the cryptocurrency of interest. The gathered data is then use to assess sentiment by assigning a magnitude value for each tweet which are all totaled to assess the overall market, trend sentiment regarding the crypto in question.\n",
    "\n",
    "Magnitude, sentiment, is calculated considering metrics such as likes, retweets and the account's metrics of the user who published the tweet, verified status or no , number of followrs. The sentiment is noted with the help of a complex analysis that gives ponderation points to the different keywords included in the tweet. This will rely on NLP, Natural Language Processing."
   ]
  },
  {
   "cell_type": "code",
   "execution_count": 19,
   "metadata": {},
   "outputs": [
    {
     "name": "stdout",
     "output_type": "stream",
     "text": [
      "Requirement already satisfied: TextBlob in c:\\users\\fluffy\\appdata\\local\\programs\\pythoncodingpack\\lib\\site-packages (0.17.1)Note: you may need to restart the kernel to use updated packages.\n",
      "Requirement already satisfied: nltk>=3.1 in c:\\users\\fluffy\\appdata\\local\\programs\\pythoncodingpack\\lib\\site-packages (from TextBlob) (3.6.5)\n",
      "Requirement already satisfied: regex>=2021.8.3 in c:\\users\\fluffy\\appdata\\local\\programs\\pythoncodingpack\\lib\\site-packages (from nltk>=3.1->TextBlob) (2021.10.23)\n",
      "Requirement already satisfied: joblib in c:\\users\\fluffy\\appdata\\local\\programs\\pythoncodingpack\\lib\\site-packages (from nltk>=3.1->TextBlob) (0.16.0)\n",
      "Requirement already satisfied: click in c:\\users\\fluffy\\appdata\\local\\programs\\pythoncodingpack\\lib\\site-packages (from nltk>=3.1->TextBlob) (8.0.3)\n",
      "Requirement already satisfied: tqdm in c:\\users\\fluffy\\appdata\\local\\programs\\pythoncodingpack\\lib\\site-packages (from nltk>=3.1->TextBlob) (4.62.3)\n",
      "Requirement already satisfied: colorama in c:\\users\\fluffy\\appdata\\local\\programs\\pythoncodingpack\\lib\\site-packages (from click->nltk>=3.1->TextBlob) (0.4.3)\n",
      "\n"
     ]
    },
    {
     "name": "stderr",
     "output_type": "stream",
     "text": [
      "WARNING: You are using pip version 21.3.1; however, version 22.0.4 is available.\n",
      "You should consider upgrading via the 'c:\\Users\\Fluffy\\AppData\\Local\\Programs\\PythonCodingPack\\python.exe -m pip install --upgrade pip' command.\n"
     ]
    }
   ],
   "source": [
    "pip install TextBlob"
   ]
  },
  {
   "cell_type": "code",
   "execution_count": 20,
   "metadata": {},
   "outputs": [],
   "source": [
    "import tweepy as twp\n",
    "from textblob import TextBlob\n",
    "from dotenv import load_dotenv\n",
    "import os\n",
    "\n",
    "import config"
   ]
  },
  {
   "cell_type": "code",
   "execution_count": 21,
   "metadata": {},
   "outputs": [],
   "source": [
    "#Loading Twitter credentials \n",
    "\n",
    "API_KEY = config.api_key\n",
    "API_KEY_SECRET = config.api_key_secret\n",
    "BEARER_TOKEN = config.bearer_token\n",
    "ACCESS_TOKEN = config.access_token\n",
    "ACCESS_TOKEN_SECRET = config.access_token_secret\n"
   ]
  },
  {
   "cell_type": "code",
   "execution_count": 22,
   "metadata": {},
   "outputs": [],
   "source": [
    "auth = twp.OAuthHandler(API_KEY, API_KEY_SECRET)\n",
    "auth.set_access_token(ACCESS_TOKEN, ACCESS_TOKEN_SECRET)\n",
    "api = twp.API(auth)"
   ]
  },
  {
   "cell_type": "markdown",
   "metadata": {},
   "source": [
    "Connotation, Polarity => Sentiment Score."
   ]
  },
  {
   "cell_type": "code",
   "execution_count": 23,
   "metadata": {},
   "outputs": [],
   "source": [
    "#Functions\n",
    "def get_polarity(tweet):\n",
    "    return TextBlob(tweet).sentiment.get_polarity\n",
    "\n",
    "def get_sentiment(score):\n",
    "    if score < 0 :\n",
    "        return 'Negative'\n",
    "    elif score == 0:\n",
    "        return 'Neutral'\n",
    "    elif score > 0:\n",
    "        return 'Positive'\n",
    "\n",
    "#Check if account is verified and assess number of followers\n",
    "def find_account_value(tweet):\n",
    "    value = 1\n",
    "    ver = tweet.user.verified\n",
    "    if(ver == True):\n",
    "        value *= 1.10\n",
    "    elif(tweet.user.followers_count > 100000):\n",
    "        value *= 1.05\n",
    "    else:\n",
    "        value += 0.05\n",
    "    return value\n",
    "\n",
    "#Function that gives a score/ value to each tweet\n",
    "\n",
    "def find_tweet_value(list_of_tweets, tweet):\n",
    "\n",
    "    tweet_likes = tweet.favorite_count\n",
    "    tweet_rts = tweet.retweet_count\n",
    "\n",
    "    total_likes = 0\n",
    "    total_rts = 0\n",
    "    for tweet in list_of_tweets:\n",
    "        total_likes += tweet.favorite_count\n",
    "        total_rts += tweet.retweet_count\n",
    "\n",
    "    avg_likes = total_likes / len(list_of_tweets)\n",
    "    avg_rts = total_rts / len(list_of_tweets)\n",
    "\n",
    "    value = 5\n",
    "\n",
    "    #Checking LIKES\n",
    "    if tweet_likes > avg_likes:\n",
    "        value += tweet_likes / avg_likes\n",
    "    elif tweet_likes < avg_likes:\n",
    "        value -= tweet_likes / avg_likes\n",
    "\n",
    "    #Checking RETWEETS\n",
    "    if tweet_rts > avg_rts:\n",
    "        value += tweet_rts / avg_rts\n",
    "    elif tweet_rts < avg_rts:\n",
    "        value -= tweet_rts /avg_rts\n",
    "    return value"
   ]
  },
  {
   "cell_type": "markdown",
   "metadata": {},
   "source": [
    "Generating Magnitude with the help of Polarity & Sentiment"
   ]
  },
  {
   "cell_type": "code",
   "execution_count": 24,
   "metadata": {},
   "outputs": [],
   "source": [
    "def magnitude(list_of_tweets, tweet):\n",
    "    pol = get_polarity(tweet.text)\n",
    "    sen = get_sentiment(pol)\n",
    "\n",
    "    magni = 0\n",
    "\n",
    "    if (sen == 'Negative'):\n",
    "        magni = find_account_value(tweet) + find_tweet_value(list_of_tweets, tweet) * -1\n",
    "    elif(sen == 'Neutral'):\n",
    "        magni = 0\n",
    "    else:\n",
    "        magni = find_account_value(tweet) + find_tweet_value(list_of_tweets, tweet)\n",
    "    return magni"
   ]
  },
  {
   "cell_type": "code",
   "execution_count": 25,
   "metadata": {},
   "outputs": [],
   "source": [
    "def get_connotation(list_of_tweets):\n",
    "    connot = 0\n",
    "    for tweet in list_of_tweets:\n",
    "        con += magnitude(list_of_tweets, tweet)\n",
    "    return connot"
   ]
  },
  {
   "cell_type": "markdown",
   "metadata": {},
   "source": [
    "Looping through all the relevant tweets and printing the information regarding each tweet."
   ]
  },
  {
   "cell_type": "code",
   "execution_count": 26,
   "metadata": {},
   "outputs": [],
   "source": [
    "def print_tweets(list_of_tweets):\n",
    "    for tweet in list_of_tweets:\n",
    "        tweet_value = find_tweet_value(list_of_tweets, tweet)\n",
    "        acc_value = find_account_value(tweet)\n",
    "        magni_value = magnitude(list_of_tweets, tweet)\n",
    "        print(f\"Verified: {tweet.user.verified}\")\n",
    "        print(f\"{tweet.user.screen.name} tweeted: \")\n",
    "        print(\"---------\")\n",
    "        print(tweet.text)\n",
    "        print(\"---------\")\n",
    "        print(f\"# of likes: {tweet.favorite.count}\")\n",
    "        print(f\"# of Retweets: {tweet.retweet.count}\")\n",
    "        print(f'Tweet Value: {tweet_value}')\n",
    "        print(f\"Account Value: {acc_value}\")\n",
    "        print(f\"Tweet Magnitude: {magni_value}\")\n",
    "\n",
    "        #Sentiment\n",
    "        pol = get_polarity(tweet.text)\n",
    "        sen = get_sentiment(pol)\n",
    "        print(f\"Sentiment: {sen}\")\n",
    "        print(\"--------------------------------------------------------------------------------------\")"
   ]
  },
  {
   "cell_type": "markdown",
   "metadata": {},
   "source": [
    "Main Function to input crypto of interest and run analysis."
   ]
  },
  {
   "cell_type": "code",
   "execution_count": 30,
   "metadata": {},
   "outputs": [],
   "source": [
    "def main():\n",
    "    search = input(\"Which coin would you like to analyze?\")\n",
    "    search_terms = search + \" -filter:retweets\"\n",
    "\n",
    "    search_tweets = api.search_tweets(q = search_terms, lang = 'en', count = 100000, result_type = \"mixed\")\n",
    "\n",
    "    print(search.upper())\n",
    "    print(f\"Number of tweets found: {len(search_tweets)}\")\n",
    "    print(\"-----------------------------------------------------------------------------------------------\")\n",
    "\n",
    "    print_all_tweets(search_tweets)\n",
    "\n",
    "    connotation = get_connotation(search_tweets)g\n",
    "    print(f\"Current Connotation: {connotation}\")\n",
    "\n"
   ]
  },
  {
   "cell_type": "code",
   "execution_count": 32,
   "metadata": {},
   "outputs": [
    {
     "ename": "KeyboardInterrupt",
     "evalue": "Interrupted by user",
     "output_type": "error",
     "traceback": [
      "\u001b[1;31m---------------------------------------------------------------------------\u001b[0m",
      "\u001b[1;31mKeyboardInterrupt\u001b[0m                         Traceback (most recent call last)",
      "\u001b[1;32m~\\AppData\\Local\\Temp/ipykernel_31408/451043146.py\u001b[0m in \u001b[0;36m<module>\u001b[1;34m\u001b[0m\n\u001b[1;32m----> 1\u001b[1;33m \u001b[0mmain\u001b[0m\u001b[1;33m(\u001b[0m\u001b[1;33m)\u001b[0m\u001b[1;33m\u001b[0m\u001b[1;33m\u001b[0m\u001b[0m\n\u001b[0m",
      "\u001b[1;32m~\\AppData\\Local\\Temp/ipykernel_31408/3635111939.py\u001b[0m in \u001b[0;36mmain\u001b[1;34m()\u001b[0m\n\u001b[0;32m      1\u001b[0m \u001b[1;32mdef\u001b[0m \u001b[0mmain\u001b[0m\u001b[1;33m(\u001b[0m\u001b[1;33m)\u001b[0m\u001b[1;33m:\u001b[0m\u001b[1;33m\u001b[0m\u001b[1;33m\u001b[0m\u001b[0m\n\u001b[1;32m----> 2\u001b[1;33m     \u001b[0msearch\u001b[0m \u001b[1;33m=\u001b[0m \u001b[0minput\u001b[0m\u001b[1;33m(\u001b[0m\u001b[1;34m\"Which coin would you like to analyze?\"\u001b[0m\u001b[1;33m)\u001b[0m\u001b[1;33m\u001b[0m\u001b[1;33m\u001b[0m\u001b[0m\n\u001b[0m\u001b[0;32m      3\u001b[0m     \u001b[0msearch_terms\u001b[0m \u001b[1;33m=\u001b[0m \u001b[0msearch\u001b[0m \u001b[1;33m+\u001b[0m \u001b[1;34m\" -filter:retweets\"\u001b[0m\u001b[1;33m\u001b[0m\u001b[1;33m\u001b[0m\u001b[0m\n\u001b[0;32m      4\u001b[0m \u001b[1;33m\u001b[0m\u001b[0m\n\u001b[0;32m      5\u001b[0m     \u001b[0msearch_tweets\u001b[0m \u001b[1;33m=\u001b[0m \u001b[0mapi\u001b[0m\u001b[1;33m.\u001b[0m\u001b[0msearch_tweets\u001b[0m\u001b[1;33m(\u001b[0m\u001b[0mq\u001b[0m \u001b[1;33m=\u001b[0m \u001b[0msearch_terms\u001b[0m\u001b[1;33m,\u001b[0m \u001b[0mlan\u001b[0m \u001b[1;33m=\u001b[0m \u001b[1;34m'en'\u001b[0m\u001b[1;33m,\u001b[0m \u001b[0mcount\u001b[0m \u001b[1;33m=\u001b[0m \u001b[1;36m100000\u001b[0m\u001b[1;33m,\u001b[0m \u001b[0mresult_type\u001b[0m \u001b[1;33m=\u001b[0m \u001b[1;34m\"mixed\"\u001b[0m\u001b[1;33m)\u001b[0m\u001b[1;33m\u001b[0m\u001b[1;33m\u001b[0m\u001b[0m\n",
      "\u001b[1;32mc:\\Users\\Fluffy\\AppData\\Local\\Programs\\PythonCodingPack\\lib\\site-packages\\ipykernel\\kernelbase.py\u001b[0m in \u001b[0;36mraw_input\u001b[1;34m(self, prompt)\u001b[0m\n\u001b[0;32m   1004\u001b[0m                 \u001b[1;34m\"raw_input was called, but this frontend does not support input requests.\"\u001b[0m\u001b[1;33m\u001b[0m\u001b[1;33m\u001b[0m\u001b[0m\n\u001b[0;32m   1005\u001b[0m             )\n\u001b[1;32m-> 1006\u001b[1;33m         return self._input_request(\n\u001b[0m\u001b[0;32m   1007\u001b[0m             \u001b[0mstr\u001b[0m\u001b[1;33m(\u001b[0m\u001b[0mprompt\u001b[0m\u001b[1;33m)\u001b[0m\u001b[1;33m,\u001b[0m\u001b[1;33m\u001b[0m\u001b[1;33m\u001b[0m\u001b[0m\n\u001b[0;32m   1008\u001b[0m             \u001b[0mself\u001b[0m\u001b[1;33m.\u001b[0m\u001b[0m_parent_ident\u001b[0m\u001b[1;33m[\u001b[0m\u001b[1;34m\"shell\"\u001b[0m\u001b[1;33m]\u001b[0m\u001b[1;33m,\u001b[0m\u001b[1;33m\u001b[0m\u001b[1;33m\u001b[0m\u001b[0m\n",
      "\u001b[1;32mc:\\Users\\Fluffy\\AppData\\Local\\Programs\\PythonCodingPack\\lib\\site-packages\\ipykernel\\kernelbase.py\u001b[0m in \u001b[0;36m_input_request\u001b[1;34m(self, prompt, ident, parent, password)\u001b[0m\n\u001b[0;32m   1049\u001b[0m             \u001b[1;32mexcept\u001b[0m \u001b[0mKeyboardInterrupt\u001b[0m\u001b[1;33m:\u001b[0m\u001b[1;33m\u001b[0m\u001b[1;33m\u001b[0m\u001b[0m\n\u001b[0;32m   1050\u001b[0m                 \u001b[1;31m# re-raise KeyboardInterrupt, to truncate traceback\u001b[0m\u001b[1;33m\u001b[0m\u001b[1;33m\u001b[0m\u001b[1;33m\u001b[0m\u001b[0m\n\u001b[1;32m-> 1051\u001b[1;33m                 \u001b[1;32mraise\u001b[0m \u001b[0mKeyboardInterrupt\u001b[0m\u001b[1;33m(\u001b[0m\u001b[1;34m\"Interrupted by user\"\u001b[0m\u001b[1;33m)\u001b[0m \u001b[1;32mfrom\u001b[0m \u001b[1;32mNone\u001b[0m\u001b[1;33m\u001b[0m\u001b[1;33m\u001b[0m\u001b[0m\n\u001b[0m\u001b[0;32m   1052\u001b[0m             \u001b[1;32mexcept\u001b[0m \u001b[0mException\u001b[0m\u001b[1;33m:\u001b[0m\u001b[1;33m\u001b[0m\u001b[1;33m\u001b[0m\u001b[0m\n\u001b[0;32m   1053\u001b[0m                 \u001b[0mself\u001b[0m\u001b[1;33m.\u001b[0m\u001b[0mlog\u001b[0m\u001b[1;33m.\u001b[0m\u001b[0mwarning\u001b[0m\u001b[1;33m(\u001b[0m\u001b[1;34m\"Invalid Message:\"\u001b[0m\u001b[1;33m,\u001b[0m \u001b[0mexc_info\u001b[0m\u001b[1;33m=\u001b[0m\u001b[1;32mTrue\u001b[0m\u001b[1;33m)\u001b[0m\u001b[1;33m\u001b[0m\u001b[1;33m\u001b[0m\u001b[0m\n",
      "\u001b[1;31mKeyboardInterrupt\u001b[0m: Interrupted by user"
     ]
    }
   ],
   "source": [
    "main()"
   ]
  }
 ],
 "metadata": {
  "interpreter": {
   "hash": "8691f65de227c2dd14ae9ac858e1fa0e22abdb1615ca6522899f00b2d15c28a2"
  },
  "kernelspec": {
   "display_name": "Python 3.8.5 64-bit",
   "language": "python",
   "name": "python3"
  },
  "language_info": {
   "codemirror_mode": {
    "name": "ipython",
    "version": 3
   },
   "file_extension": ".py",
   "mimetype": "text/x-python",
   "name": "python",
   "nbconvert_exporter": "python",
   "pygments_lexer": "ipython3",
   "version": "3.8.5"
  },
  "orig_nbformat": 4
 },
 "nbformat": 4,
 "nbformat_minor": 2
}
